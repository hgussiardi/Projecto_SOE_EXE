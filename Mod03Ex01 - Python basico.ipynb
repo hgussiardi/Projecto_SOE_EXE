{
 "cells": [
  {
   "cell_type": "markdown",
   "metadata": {},
   "source": [
    "### 01 - Teste de gravidez\n",
    "Escreva uma célula com controle de fluxos que tem como premissa a existência das seguintes variáveis:\n",
    "\n",
    "- ```sexo``` como ```str``` indicando os valores '**M**' para masculino e '**F**' para feminino  \n",
    "- ```beta_hcg``` que indica a quantidade do beta-HCG no sangue em mUI/mL.\n",
    "\n",
    "A sua tarefa é escrever um código que imprima como resultado \"indivíduo do sexo masculino\" quando sexo = 'M', caso sexo = 'F', se o valor de beta-HCG for maior que 5, retorne \"Positivo\" indicando que a paciente está grávida, e retorne \"Negativo\" caso contrário.\n",
    "\n",
    "Não mexa nos valores da variável ```sexo``` nem em ```beta_hcg```, e escreva um código que funcione para quaisquer valores possíveis de ambos: ```sexo``` = '**M**' ou '**F**' e ```beta_hcg``` assumindo valores inteiros positivos."
   ]
  },
  {
   "cell_type": "code",
   "execution_count": 1,
   "metadata": {},
   "outputs": [
    {
     "name": "stdout",
     "output_type": "stream",
     "text": [
      "Individuo do Sexo Masculino\n"
     ]
    }
   ],
   "source": [
    "sexo = 'M'\n",
    "beta_hcg = 0\n",
    "\n",
    "# seu código vem abaixo desta linha\n",
    "if sexo == 'M':\n",
    "    print('Individuo do Sexo Masculino')\n",
    "elif sexo == 'F':\n",
    "    beta_hcg = int(beta_hcg)\n",
    "    if beta_hcg >= 0:\n",
    "        if beta_hcg > 5: \n",
    "            print(\"Positivo: a paciente está grávida\")\n",
    "        else:\n",
    "            print(\"Negativo: a paciente não está grávida\")\n",
    "    else:\n",
    "        print(f\"Por favor, entre com um número de beta_hacg positivo --> Beta_HCG = {beta_hcg}.\")\n",
    "else:\n",
    "    print(f\"Por favor, entre com Sexo 'M' para Masculino e 'F' para feminino --> Sexo = {sexo}.\")\n"
   ]
  },
  {
   "cell_type": "markdown",
   "metadata": {},
   "source": [
    "### 02 - Renomeando variáveis\n",
    "\n",
    "Vamos ver adiante que uma forma de renomear variáveis de um conjunto de dados é através de dicionários - o dicionário deve conter como chave o nome original, associando a cada chave um único valor (tipo *str*) que contenha o nome novo.\n",
    "\n",
    "A sua tarefa é escrever um dicionário que possa ser utilizado para traduzir as variáveis ```name``` (nome), ```age``` (idade) e ```income``` (renda). Ou seja, esse dicionário deve relacionar as chaves *name, age* e *income* às suas respectivas traduções."
   ]
  },
  {
   "cell_type": "code",
   "execution_count": 2,
   "metadata": {},
   "outputs": [
    {
     "name": "stdout",
     "output_type": "stream",
     "text": [
      "A tradução de name é nome\n",
      "A tradução de age é idade\n",
      "A tradução de income é renda\n"
     ]
    }
   ],
   "source": [
    "dic_renomeacao = {'': ''}\n",
    "dic_renomeacao = {'name':'nome','age':'idade','income':'renda'}\n",
    "for item in dic_renomeacao:\n",
    "    print (f'A tradução de {item} é {dic_renomeacao[item]}')\n"
   ]
  },
  {
   "cell_type": "markdown",
   "metadata": {},
   "source": [
    "### 03 - É divisível?\n",
    "A sua tarefa é escrever um código que indique se um número ```N``` é divisível por um número P. Escreva um programa que faça essa verificação para quaisquer combinações de ```N``` e ```M``` e devolva uma mensagem indicativa no output."
   ]
  },
  {
   "cell_type": "code",
   "execution_count": 7,
   "metadata": {},
   "outputs": [
    {
     "name": "stdout",
     "output_type": "stream",
     "text": [
      "Informe um número inteiro: 9\n",
      "N não é divisível por P\n",
      "N + M não é divisível por P\n",
      "N - M não é divisível por P\n",
      "N * M não é divisível por P\n",
      "N / M não é divisível por P\n",
      "N elevado M é divisível por P\n"
     ]
    }
   ],
   "source": [
    "N = 42\n",
    "M = 7\n",
    "\n",
    "#Seu código\n",
    "P = input('Informe um número inteiro: ')\n",
    "P = int(P)\n",
    "\n",
    "if N%P == 0 :\n",
    "    print('N é divisível por P')\n",
    "else:\n",
    "    print('N não é divisível por P')\n",
    "\n",
    "if (N+M)%P == 0:\n",
    "    print('N + M é divisível por P')\n",
    "else:\n",
    "    print('N + M não é divisível por P')\n",
    "    \n",
    "if (N-M)%P == 0:\n",
    "    print('N - M é divisível por P')\n",
    "else:\n",
    "    print('N - M não é divisível por P')\n",
    "    \n",
    "if (N*M)%P == 0:\n",
    "    print('N * M é divisível por P')\n",
    "else:\n",
    "    print('N * M não é divisível por P')\n",
    "    \n",
    "if (N/M)%P == 0:\n",
    "    print('N / M é divisível por P')\n",
    "else:\n",
    "    print('N / M não é divisível por P')   \n",
    "\n",
    "if (N**M)%P == 0:\n",
    "    print('N elevado M é divisível por P')\n",
    "else:\n",
    "    print('N elevado M não é divisível por P')"
   ]
  },
  {
   "cell_type": "markdown",
   "metadata": {},
   "source": [
    "### 04 - Números primos\n",
    "> Um número **N** é primo se e somente se é divisível por 1, -1, por **N** e por -**N**.  \n",
    "\n",
    "Escreva um script que verifica se ```N``` é um número primo, verificando se ```N``` é divisível por todos os números de ```1``` a ```N-1```. Você vai precisar usar alguma ferramenta de *loop* que você aprendeu para isto. No final, devolva uma mensagem no output indicando se o número é primo ou não."
   ]
  },
  {
   "cell_type": "code",
   "execution_count": 18,
   "metadata": {},
   "outputs": [
    {
     "name": "stdout",
     "output_type": "stream",
     "text": [
      "N=47 é um número primo\n"
     ]
    }
   ],
   "source": [
    "N = 47\n",
    "\n",
    "# seu código abaixo\n",
    "i=2\n",
    "nao_primo = False\n",
    "while i <= N - 1:\n",
    "    if N%i == 0:\n",
    "        print(f'N={N} não é um número primo')\n",
    "        nao_primo = True\n",
    "        break\n",
    "    i+=1\n",
    "    \n",
    "if nao_primo == False:\n",
    "    print(f'N={N} é um número primo')\n",
    "\n"
   ]
  },
  {
   "cell_type": "markdown",
   "metadata": {},
   "source": [
    "### 05 - Desafio\n",
    "O algorítmo do exercício anterior não é o mais eficiente. O que você pode fazer para deixá-lo mais eficiente? Ou seja, executar menos comparações, portanto consumir menos tempo.\n",
    "1. Será que precisamos correr o loop até o final sempre?\n",
    "2. Será que precisamos mesmo verificar **todos** os números?\n",
    "3. Será que precisamos ir até N-1?\n",
    "\n",
    "Essas perguntas levam ao tipo de pensamento voltado a deixar um algoritmo mais eficiente. Veja se você consegue melhorar o seu."
   ]
  },
  {
   "cell_type": "code",
   "execution_count": 25,
   "metadata": {},
   "outputs": [
    {
     "name": "stdout",
     "output_type": "stream",
     "text": [
      "N=98 não é um número primo\n"
     ]
    }
   ],
   "source": [
    "N = 98\n",
    "\n",
    "# seu código aqui\n",
    "i=2\n",
    "limite = int(N/2)\n",
    "nao_primo = False\n",
    "while i <= limite:\n",
    "    if N%i == 0:\n",
    "        print(f'N={N} não é um número primo')\n",
    "        nao_primo = True\n",
    "        break\n",
    "    i+=1\n",
    "    \n",
    "if nao_primo == False:\n",
    "    print(f'N={N} é um número primo')\n",
    "    \n",
    "\n"
   ]
  },
  {
   "cell_type": "markdown",
   "metadata": {},
   "source": [
    "### 06 - Peso ideal 1\n",
    "O IMC (índice de massa corpórea) é um indicador de saúde mais bem aceito que o peso. Ele é calculado como:\n",
    "\n",
    "$$ IMC = \\dfrac{peso}{altura^2}$$\n",
    "\n",
    "Segundo a OMS, valores *normais* são entre 18.5 e 24.9.\n",
    "\n",
    "Sua tarefa é encontrar o ponto médio dessa faixa."
   ]
  },
  {
   "cell_type": "code",
   "execution_count": 29,
   "metadata": {},
   "outputs": [
    {
     "name": "stdout",
     "output_type": "stream",
     "text": [
      "O Ponto médio desta faixa é 21.7\n"
     ]
    }
   ],
   "source": [
    "imc_ideal = (18.5 + 24.9)/2\n",
    "print(f'O Ponto médio desta faixa é {imc_ideal}')"
   ]
  },
  {
   "cell_type": "markdown",
   "metadata": {},
   "source": [
    "### 07 - Peso ideal 2\n",
    "Recebendo um valor de altura, encontre o peso '*ideal*' dessa pessoa, que fornece o IMC encontrado acima"
   ]
  },
  {
   "cell_type": "code",
   "execution_count": 32,
   "metadata": {},
   "outputs": [
    {
     "name": "stdout",
     "output_type": "stream",
     "text": [
      "O peso ideal para se ter um IMC de 21.7 com altura 1.7 metros é 62.71 KG.\n"
     ]
    }
   ],
   "source": [
    "altura = 1.70\n",
    "\n",
    "# Seu código\n",
    "peso_ideal = round(imc_ideal * (altura**2),2) \n",
    "print(f'O peso ideal para se ter um IMC de {imc_ideal} com altura {altura} metros é {peso_ideal} KG.')"
   ]
  },
  {
   "cell_type": "markdown",
   "metadata": {},
   "source": [
    "### 08 - Peso ideal 3\n",
    "Dada uma lista contendo as alturas de pacientes, crie uma nova lista que contenha o peso '*ideal*' (que fornece o IMC calculado em **Peso ideal 1**) desses pacientes."
   ]
  },
  {
   "cell_type": "code",
   "execution_count": 36,
   "metadata": {},
   "outputs": [
    {
     "name": "stdout",
     "output_type": "stream",
     "text": [
      "A lista de peso ideal é [82.51, 91.19, 62.71, 59.08]\n"
     ]
    }
   ],
   "source": [
    "lista_alturas = [1.95, 2.05, 1.70, 1.65]\n",
    "\n",
    "lista_peso_ideal = []\n",
    "\n",
    "# seu código\n",
    "for item_altura in lista_alturas :\n",
    "    lista_peso_ideal.append(round(imc_ideal * (item_altura**2),2) )\n",
    "print(f'A lista de peso ideal é {lista_peso_ideal}')"
   ]
  },
  {
   "cell_type": "markdown",
   "metadata": {},
   "source": [
    "### 09 - Peso ideal 4\n",
    "Dada uma lista de tuplas - cada elemento da lista é uma tupla contendo altura e peso de um paciente - crie uma nova lista com o IMC desses pacientes."
   ]
  },
  {
   "cell_type": "code",
   "execution_count": 46,
   "metadata": {},
   "outputs": [
    {
     "name": "stdout",
     "output_type": "stream",
     "text": [
      "Paciente 1 tem um índice de IMC de 27.78 --> peso:90 e altura:1.8\n",
      "Paciente 2 tem um índice de IMC de 27.55 --> peso:75 e altura:1.65\n",
      "Paciente 3 tem um índice de IMC de 19.19 --> peso:70 e altura:1.91\n"
     ]
    }
   ],
   "source": [
    "altura_peso = [(1.80, 90), (1.65, 75), (1.91, 70)]\n",
    "\n",
    "imc = []\n",
    "\n",
    "# seu código\n",
    "for i in range (0,len(altura_peso)):\n",
    "    imc = round(altura_peso[i][1] / (altura_peso[i][0]**2),2)\n",
    "    print(f'Paciente {i + 1} tem um índice de IMC de {imc} --> peso:{altura_peso[i][1]} e altura:{altura_peso[i][0]}')\n"
   ]
  },
  {
   "cell_type": "markdown",
   "metadata": {},
   "source": [
    "### 10 - Peso ideal 5\n",
    "Dada uma lista de **listas** - cada elemento da lista é uma **lista** contendo altura e peso de um paciente, adicione mais um elemento à lista de cada paciente contendo o IMC do paciente. Verifique também se é 'baixo', 'normal' ou 'alto' segundo os padrões da OMS em que normal é entre 18.5 e 24.9.\n",
    "\n",
    "Reflexão: por que no problema anterior temos que criar uma nova lista, e não podemos adicionar os dados de cada indivíduo à tupla?"
   ]
  },
  {
   "cell_type": "code",
   "execution_count": 52,
   "metadata": {},
   "outputs": [
    {
     "data": {
      "text/plain": [
       "[[1.8, 90, 27.78, 'alto'],\n",
       " [1.65, 75, 27.55, 'alto'],\n",
       " [1.91, 70, 19.19, 'normal']]"
      ]
     },
     "execution_count": 52,
     "metadata": {},
     "output_type": "execute_result"
    }
   ],
   "source": [
    "altura_peso = [[1.80, 90], [1.65, 75], [1.91, 70]]\n",
    "\n",
    "# seu código\n",
    "for i in range (0,len(altura_peso)):\n",
    "    imc = round(altura_peso[i][1] / (altura_peso[i][0]**2),2)\n",
    "    altura_peso[i].append(imc)\n",
    "    if imc < 18.5 :\n",
    "        altura_peso[i].append('baixo')\n",
    "    elif imc > 24.9:\n",
    "        altura_peso[i].append('alto')\n",
    "    else:\n",
    "        altura_peso[i].append('normal')\n",
    "    \n",
    "altura_peso"
   ]
  }
 ],
 "metadata": {
  "kernelspec": {
   "display_name": "Python 3 (ipykernel)",
   "language": "python",
   "name": "python3"
  },
  "language_info": {
   "codemirror_mode": {
    "name": "ipython",
    "version": 3
   },
   "file_extension": ".py",
   "mimetype": "text/x-python",
   "name": "python",
   "nbconvert_exporter": "python",
   "pygments_lexer": "ipython3",
   "version": "3.9.7"
  }
 },
 "nbformat": 4,
 "nbformat_minor": 4
}
